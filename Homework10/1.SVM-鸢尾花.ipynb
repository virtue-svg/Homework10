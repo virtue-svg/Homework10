{
 "cells": [
  {
   "cell_type": "code",
   "execution_count": null,
   "metadata": {},
   "outputs": [
    {
     "name": "stdout",
     "output_type": "stream",
     "text": [
      "Accuracy: 1.00\n",
      "Recall: 1.00\n",
      "F1 Score: 1.00\n",
      "Confusion Matrix:\n",
      "[[10  0  0]\n",
      " [ 0  9  0]\n",
      " [ 0  0 11]]\n"
     ]
    }
   ],
   "source": [
    "# 加载鸢尾花数据集\n",
    "from sklearn import datasets\n",
    "iris = datasets.load_iris()\n",
    "X = iris.data # 特征数据\n",
    "Y = iris.target # 标签数据\n",
    "\n",
    "# 划分数据集，训练集比例为0.2，随机种子为42\n",
    "from sklearn.model_selection import train_test_split\n",
    "X_train, X_test, Y_train, Y_test = train_test_split(X, Y, test_size=0.2, random_state=42)\n",
    "\n",
    "# 创建SVM模型，使用线性核函数，随机种子为42\n",
    "# SVC是支持向量机分类器，kernel='linear'表示使用线性核函数\n",
    "# random_state用于控制模型的初始化，确保结果的可重复性\n",
    "from sklearn.svm import SVC\n",
    "svm_model = SVC(kernel='linear', random_state=42)\n",
    "\n",
    "# 训练SVM模型\n",
    "svm_model.fit(X_train,Y_train)\n",
    "\n",
    "# 使用训练好的模型预测\n",
    "Y_pred = svm_model.predict(X_test)\n",
    "\n",
    "\n",
    "# 评估模型效果\n",
    "from sklearn.metrics import accuracy_score, recall_score, f1_score, confusion_matrix\n",
    "# Accuracy: 准确率，预测正确的样本占总样本的比例\n",
    "accuracy = accuracy_score(Y_test, Y_pred)\n",
    "# Recall: 召回率，针对每个类别，预测为该类别的样本中实际为该类别的比例\n",
    "recall = recall_score(Y_test, Y_pred, average='macro')  # 'macro'平均值不考虑类别不平衡\n",
    "# F1 Score: F1分数，准确率和召回率的调和平均数\n",
    "f1 = f1_score(Y_test, Y_pred, average='macro')\n",
    "# Confusion Matrix: 混淆矩阵，显示实际类别与预测类别的关系\n",
    "conf_matrix = confusion_matrix(Y_test, Y_pred)\n",
    "\n",
    "# 打印评估结果\n",
    "print(f\"Accuracy: {accuracy:.2f}\")\n",
    "print(f\"Recall: {recall:.2f}\")\n",
    "print(f\"F1 Score: {f1:.2f}\")\n",
    "print(\"Confusion Matrix:\")\n",
    "print(conf_matrix)\n",
    "\n",
    "\n",
    "\n",
    "\n",
    "\n",
    "\n",
    "\n",
    "\n",
    "\n",
    "\n",
    "\n",
    "\n",
    "\n",
    "\n",
    "\n",
    "\n",
    "\n"
   ]
  }
 ],
 "metadata": {
  "kernelspec": {
   "display_name": "base",
   "language": "python",
   "name": "python3"
  },
  "language_info": {
   "codemirror_mode": {
    "name": "ipython",
    "version": 3
   },
   "file_extension": ".py",
   "mimetype": "text/x-python",
   "name": "python",
   "nbconvert_exporter": "python",
   "pygments_lexer": "ipython3",
   "version": "3.11.7"
  }
 },
 "nbformat": 4,
 "nbformat_minor": 2
}
