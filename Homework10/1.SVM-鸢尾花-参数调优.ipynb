{
 "cells": [
  {
   "cell_type": "code",
   "execution_count": null,
   "metadata": {},
   "outputs": [
    {
     "name": "stdout",
     "output_type": "stream",
     "text": [
      "Fitting 5 folds for each of 12 candidates, totalling 60 fits\n",
      "Best Parameters: {'C': 1, 'gamma': 'scale', 'kernel': 'linear'}\n",
      "Accuracy: 1.00\n",
      "Recall: 1.00\n",
      "F1 Score: 1.00\n",
      "Confusion Matrix:\n",
      "[[10  0  0]\n",
      " [ 0  9  0]\n",
      " [ 0  0 11]]\n"
     ]
    }
   ],
   "source": [
    "# 加载鸢尾花数据集\n",
    "from sklearn import datasets\n",
    "iris = datasets.load_iris()\n",
    "X = iris.data # 特征数据\n",
    "y = iris.target # 标签数据\n",
    "\n",
    "# 划分数据集，训练集比例为0.2，随机种子为42\n",
    "from sklearn.model_selection import train_test_split\n",
    "X_train, X_test, y_train, y_test = train_test_split(X, y, test_size=0.2, random_state=42)\n",
    "\n",
    "# 定义SVM模型的参数网格\n",
    "# param_grid字典定义了要搜索的参数空间\n",
    "param_grid = {\n",
    "    'C': [0.1, 1, 10],  # SVM正则化参数，较小的值表示更强的正则化\n",
    "    'kernel': ['linear', 'rbf'],  # 核函数类型\n",
    "    'gamma': ['scale', 'auto']  # 核函数参数，对于'rbf', 'poly'和'sigmoid'，表示核函数的系数\n",
    "}\n",
    "\n",
    "# 创建SVM模型\n",
    "from sklearn.svm import SVC\n",
    "svm_model = SVC(random_state=42)\n",
    "\n",
    "# 使用GridSearchCV进行参数调优\n",
    "from sklearn.model_selection import GridSearchCV\n",
    "grid_search = GridSearchCV(estimator=svm_model, param_grid=param_grid, cv=5, scoring='accuracy', verbose=1, n_jobs=-1)\n",
    "grid_search.fit(X_train, y_train) # 训练模型并寻找最佳参数\n",
    "\n",
    "# 获取最佳参数和最佳模型\n",
    "# best_params_属性存储了最佳参数组合，best_estimator_属性存储了训练好的最优模型\n",
    "best_params = grid_search.best_params_\n",
    "best_model = grid_search.best_estimator_\n",
    "\n",
    "# 使用最佳模型进行预测\n",
    "y_pred = best_model.predict(X_test)\n",
    "\n",
    "# 评估模型效果\n",
    "from sklearn.metrics import accuracy_score, recall_score, f1_score, confusion_matrix\n",
    "accuracy = accuracy_score(y_test, y_pred)\n",
    "recall = recall_score(y_test, y_pred, average='macro')\n",
    "f1 = f1_score(y_test, y_pred, average='macro')\n",
    "conf_matrix = confusion_matrix(y_test, y_pred)\n",
    "\n",
    "# 打印评估结果和最佳参数\n",
    "print(f\"Best Parameters: {best_params}\")\n",
    "print(f\"Accuracy: {accuracy:.2f}\")\n",
    "print(f\"Recall: {recall:.2f}\")\n",
    "print(f\"F1 Score: {f1:.2f}\")\n",
    "print(\"Confusion Matrix:\")\n",
    "print(conf_matrix)"
   ]
  }
 ],
 "metadata": {
  "kernelspec": {
   "display_name": "base",
   "language": "python",
   "name": "python3"
  },
  "language_info": {
   "codemirror_mode": {
    "name": "ipython",
    "version": 3
   },
   "file_extension": ".py",
   "mimetype": "text/x-python",
   "name": "python",
   "nbconvert_exporter": "python",
   "pygments_lexer": "ipython3",
   "version": "3.11.7"
  }
 },
 "nbformat": 4,
 "nbformat_minor": 2
}
